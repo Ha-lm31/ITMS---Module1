{
 "cells": [
  {
   "cell_type": "markdown",
   "metadata": {},
   "source": [
    "# Cloning"
   ]
  },
  {
   "cell_type": "markdown",
   "metadata": {},
   "source": [
    "*1epochs : 10 min, 0.072 h = 4.32 min*\n",
    "\n",
    "*5 epochs train: 0.348 h = 20.88 min*\n",
    "\n",
    "*10 epochs train: 0.691 h = 41.46 min*\n",
    "\n",
    "*15 epochs train: 1.040 h = - min*\n",
    "\n",
    "*20 epochs train: -- h = -- min*\n",
    "\n",
    "*25 epochs train: -- h = -- min*"
   ]
  },
  {
   "cell_type": "code",
   "execution_count": null,
   "metadata": {
    "_cell_guid": "b1076dfc-b9ad-4769-8c92-a6c4dae69d19",
    "_uuid": "8f2839f25d086af736a60e9eeb907d3b93b6e0e5",
    "execution": {
     "iopub.execute_input": "2025-05-27T16:37:12.901512Z",
     "iopub.status.busy": "2025-05-27T16:37:12.901001Z",
     "iopub.status.idle": "2025-05-27T16:37:16.439326Z",
     "shell.execute_reply": "2025-05-27T16:37:16.438412Z",
     "shell.execute_reply.started": "2025-05-27T16:37:12.901488Z"
    },
    "trusted": true
   },
   "outputs": [
    {
     "name": "stdout",
     "output_type": "stream",
     "text": [
      "Cloning into 'PFE-Module1'...\n",
      "remote: Enumerating objects: 133, done.\u001b[K\n",
      "remote: Counting objects: 100% (11/11), done.\u001b[K\n",
      "remote: Compressing objects: 100% (10/10), done.\u001b[K\n",
      "remote: Total 133 (delta 0), reused 6 (delta 0), pack-reused 122 (from 2)\u001b[K\n",
      "Receiving objects: 100% (133/133), 60.29 MiB | 36.95 MiB/s, done.\n",
      "Resolving deltas: 100% (20/20), done.\n"
     ]
    }
   ],
   "source": [
    "#!git clone https://github.com/Ha-lm31/TrackingCount.git\n",
    "!git clone https://github.com/Ha-lm31/ITMS---Module1.git"
   ]
  },
  {
   "cell_type": "markdown",
   "metadata": {},
   "source": [
    "# Installation of torch"
   ]
  },
  {
   "cell_type": "code",
   "execution_count": 2,
   "metadata": {
    "execution": {
     "iopub.execute_input": "2025-05-27T16:37:17.921523Z",
     "iopub.status.busy": "2025-05-27T16:37:17.920958Z",
     "iopub.status.idle": "2025-05-27T16:39:12.834157Z",
     "shell.execute_reply": "2025-05-27T16:39:12.833283Z",
     "shell.execute_reply.started": "2025-05-27T16:37:17.921479Z"
    },
    "trusted": true
   },
   "outputs": [
    {
     "name": "stdout",
     "output_type": "stream",
     "text": [
      "Found existing installation: torch 2.6.0+cu124\n",
      "Uninstalling torch-2.6.0+cu124:\n",
      "  Successfully uninstalled torch-2.6.0+cu124\n",
      "Found existing installation: torchvision 0.21.0+cu124\n",
      "Uninstalling torchvision-0.21.0+cu124:\n",
      "  Successfully uninstalled torchvision-0.21.0+cu124\n",
      "Found existing installation: torchaudio 2.6.0+cu124\n",
      "Uninstalling torchaudio-2.6.0+cu124:\n",
      "  Successfully uninstalled torchaudio-2.6.0+cu124\n",
      "Looking in indexes: https://download.pytorch.org/whl/cu118\n",
      "Collecting torch==2.1.0\n",
      "  Downloading https://download.pytorch.org/whl/cu118/torch-2.1.0%2Bcu118-cp311-cp311-linux_x86_64.whl (2325.9 MB)\n",
      "\u001b[2K     \u001b[90m━━━━━━━━━━━━━━━━━━━━━━━━━━━━━━━━━━━━━━━━\u001b[0m \u001b[32m2.3/2.3 GB\u001b[0m \u001b[31m463.3 kB/s\u001b[0m eta \u001b[36m0:00:00\u001b[0m00:01\u001b[0m0:01\u001b[0mm\n",
      "\u001b[?25hCollecting torchvision==0.16.0\n",
      "  Downloading https://download.pytorch.org/whl/cu118/torchvision-0.16.0%2Bcu118-cp311-cp311-linux_x86_64.whl (6.2 MB)\n",
      "\u001b[2K     \u001b[90m━━━━━━━━━━━━━━━━━━━━━━━━━━━━━━━━━━━━━━━━\u001b[0m \u001b[32m6.2/6.2 MB\u001b[0m \u001b[31m75.5 MB/s\u001b[0m eta \u001b[36m0:00:00\u001b[0m:00:01\u001b[0m00:01\u001b[0m\n",
      "\u001b[?25hCollecting torchaudio==2.1.0\n",
      "  Downloading https://download.pytorch.org/whl/cu118/torchaudio-2.1.0%2Bcu118-cp311-cp311-linux_x86_64.whl (3.2 MB)\n",
      "\u001b[2K     \u001b[90m━━━━━━━━━━━━━━━━━━━━━━━━━━━━━━━━━━━━━━━━\u001b[0m \u001b[32m3.2/3.2 MB\u001b[0m \u001b[31m75.2 MB/s\u001b[0m eta \u001b[36m0:00:00\u001b[0m:00:01\u001b[0m\n",
      "\u001b[?25hRequirement already satisfied: filelock in /usr/local/lib/python3.11/dist-packages (from torch==2.1.0) (3.18.0)\n",
      "Requirement already satisfied: typing-extensions in /usr/local/lib/python3.11/dist-packages (from torch==2.1.0) (4.13.2)\n",
      "Requirement already satisfied: sympy in /usr/local/lib/python3.11/dist-packages (from torch==2.1.0) (1.13.1)\n",
      "Requirement already satisfied: networkx in /usr/local/lib/python3.11/dist-packages (from torch==2.1.0) (3.4.2)\n",
      "Requirement already satisfied: jinja2 in /usr/local/lib/python3.11/dist-packages (from torch==2.1.0) (3.1.6)\n",
      "Requirement already satisfied: fsspec in /usr/local/lib/python3.11/dist-packages (from torch==2.1.0) (2025.3.2)\n",
      "Collecting triton==2.1.0 (from torch==2.1.0)\n",
      "  Downloading https://download.pytorch.org/whl/triton-2.1.0-0-cp311-cp311-manylinux2014_x86_64.manylinux_2_17_x86_64.whl (89.2 MB)\n",
      "\u001b[2K     \u001b[90m━━━━━━━━━━━━━━━━━━━━━━━━━━━━━━━━━━━━━━━━\u001b[0m \u001b[32m89.2/89.2 MB\u001b[0m \u001b[31m19.4 MB/s\u001b[0m eta \u001b[36m0:00:00\u001b[0m:00:01\u001b[0m00:01\u001b[0m\n",
      "\u001b[?25hRequirement already satisfied: numpy in /usr/local/lib/python3.11/dist-packages (from torchvision==0.16.0) (1.26.4)\n",
      "Requirement already satisfied: requests in /usr/local/lib/python3.11/dist-packages (from torchvision==0.16.0) (2.32.3)\n",
      "Requirement already satisfied: pillow!=8.3.*,>=5.3.0 in /usr/local/lib/python3.11/dist-packages (from torchvision==0.16.0) (11.1.0)\n",
      "Requirement already satisfied: MarkupSafe>=2.0 in /usr/local/lib/python3.11/dist-packages (from jinja2->torch==2.1.0) (3.0.2)\n",
      "Requirement already satisfied: mkl_fft in /usr/local/lib/python3.11/dist-packages (from numpy->torchvision==0.16.0) (1.3.8)\n",
      "Requirement already satisfied: mkl_random in /usr/local/lib/python3.11/dist-packages (from numpy->torchvision==0.16.0) (1.2.4)\n",
      "Requirement already satisfied: mkl_umath in /usr/local/lib/python3.11/dist-packages (from numpy->torchvision==0.16.0) (0.1.1)\n",
      "Requirement already satisfied: mkl in /usr/local/lib/python3.11/dist-packages (from numpy->torchvision==0.16.0) (2025.1.0)\n",
      "Requirement already satisfied: tbb4py in /usr/local/lib/python3.11/dist-packages (from numpy->torchvision==0.16.0) (2022.1.0)\n",
      "Requirement already satisfied: mkl-service in /usr/local/lib/python3.11/dist-packages (from numpy->torchvision==0.16.0) (2.4.1)\n",
      "Requirement already satisfied: charset-normalizer<4,>=2 in /usr/local/lib/python3.11/dist-packages (from requests->torchvision==0.16.0) (3.4.2)\n",
      "Requirement already satisfied: idna<4,>=2.5 in /usr/local/lib/python3.11/dist-packages (from requests->torchvision==0.16.0) (3.10)\n",
      "Requirement already satisfied: urllib3<3,>=1.21.1 in /usr/local/lib/python3.11/dist-packages (from requests->torchvision==0.16.0) (2.4.0)\n",
      "Requirement already satisfied: certifi>=2017.4.17 in /usr/local/lib/python3.11/dist-packages (from requests->torchvision==0.16.0) (2025.4.26)\n",
      "Requirement already satisfied: mpmath<1.4,>=1.1.0 in /usr/local/lib/python3.11/dist-packages (from sympy->torch==2.1.0) (1.3.0)\n",
      "Requirement already satisfied: intel-openmp<2026,>=2024 in /usr/local/lib/python3.11/dist-packages (from mkl->numpy->torchvision==0.16.0) (2024.2.0)\n",
      "Requirement already satisfied: tbb==2022.* in /usr/local/lib/python3.11/dist-packages (from mkl->numpy->torchvision==0.16.0) (2022.1.0)\n",
      "Requirement already satisfied: tcmlib==1.* in /usr/local/lib/python3.11/dist-packages (from tbb==2022.*->mkl->numpy->torchvision==0.16.0) (1.3.0)\n",
      "Requirement already satisfied: intel-cmplr-lib-rt in /usr/local/lib/python3.11/dist-packages (from mkl_umath->numpy->torchvision==0.16.0) (2024.2.0)\n",
      "Requirement already satisfied: intel-cmplr-lib-ur==2024.2.0 in /usr/local/lib/python3.11/dist-packages (from intel-openmp<2026,>=2024->mkl->numpy->torchvision==0.16.0) (2024.2.0)\n",
      "Installing collected packages: triton, torch, torchaudio, torchvision\n",
      "  Attempting uninstall: triton\n",
      "    Found existing installation: triton 3.2.0\n",
      "    Uninstalling triton-3.2.0:\n",
      "      Successfully uninstalled triton-3.2.0\n",
      "Successfully installed torch-2.1.0+cu118 torchaudio-2.1.0+cu118 torchvision-0.16.0+cu118 triton-2.1.0\n"
     ]
    },
    {
     "data": {
      "text/plain": [
       "'# 3. Redémarrer automatiquement le kernel\\nimport os\\nos._exit(00)'"
      ]
     },
     "execution_count": 2,
     "metadata": {},
     "output_type": "execute_result"
    }
   ],
   "source": [
    "# 1. Supprimer les versions actuelles de torch\n",
    "!pip uninstall -y torch torchvision torchaudio\n",
    "\n",
    "# 2. Installer une version stable (compatible YOLOv8, sans weights_only bug)\n",
    "!pip install torch==2.1.0 torchvision==0.16.0 torchaudio==2.1.0 --index-url https://download.pytorch.org/whl/cu118\n",
    "\n",
    "'''# 3. Redémarrer automatiquement le kernel\n",
    "import os\n",
    "os._exit(00)'''\n"
   ]
  },
  {
   "cell_type": "code",
   "execution_count": 3,
   "metadata": {
    "execution": {
     "iopub.execute_input": "2025-05-27T16:47:08.019556Z",
     "iopub.status.busy": "2025-05-27T16:47:08.019207Z",
     "iopub.status.idle": "2025-05-27T16:47:09.975396Z",
     "shell.execute_reply": "2025-05-27T16:47:09.974499Z",
     "shell.execute_reply.started": "2025-05-27T16:47:08.019528Z"
    },
    "trusted": true
   },
   "outputs": [
    {
     "name": "stdout",
     "output_type": "stream",
     "text": [
      "Name: torch\n",
      "Version: 2.1.0+cu118\n",
      "Summary: Tensors and Dynamic neural networks in Python with strong GPU acceleration\n",
      "Home-page: https://pytorch.org/\n",
      "Author: PyTorch Team\n",
      "Author-email: packages@pytorch.org\n",
      "License: BSD-3\n",
      "Location: /usr/local/lib/python3.11/dist-packages\n",
      "Requires: filelock, fsspec, jinja2, networkx, sympy, triton, typing-extensions\n",
      "Required-by: accelerate, easyocr, fastai, kornia, peft, pytorch-ignite, pytorch-lightning, sentence-transformers, stable-baselines3, timm, torchaudio, torchdata, torchmetrics, torchvision\n"
     ]
    }
   ],
   "source": [
    "!pip show torch"
   ]
  },
  {
   "cell_type": "markdown",
   "metadata": {},
   "source": [
    "# Path"
   ]
  },
  {
   "cell_type": "code",
   "execution_count": null,
   "metadata": {
    "execution": {
     "iopub.execute_input": "2025-05-27T16:47:12.415475Z",
     "iopub.status.busy": "2025-05-27T16:47:12.415174Z",
     "iopub.status.idle": "2025-05-27T16:47:12.420988Z",
     "shell.execute_reply": "2025-05-27T16:47:12.420268Z",
     "shell.execute_reply.started": "2025-05-27T16:47:12.415448Z"
    },
    "trusted": true
   },
   "outputs": [
    {
     "name": "stdout",
     "output_type": "stream",
     "text": [
      "Exécution terminer\n"
     ]
    }
   ],
   "source": [
    "from IPython.display import Image\n",
    "import os\n",
    "\n",
    "BASE_PATH = '/kaggle/working/ITMS-Module1'\n",
    "home1 = os.path.join(BASE_PATH, 'YOLOv8-DeepSORT-Object-Tracking')\n",
    "home2 = os.path.join(home1, 'ultralytics/yolo/v8/detect')\n",
    "\n",
    "print(\"Exécution terminer\")"
   ]
  },
  {
   "cell_type": "code",
   "execution_count": 5,
   "metadata": {
    "execution": {
     "iopub.execute_input": "2025-05-27T16:47:14.103428Z",
     "iopub.status.busy": "2025-05-27T16:47:14.102845Z",
     "iopub.status.idle": "2025-05-27T16:47:14.219589Z",
     "shell.execute_reply": "2025-05-27T16:47:14.218807Z",
     "shell.execute_reply.started": "2025-05-27T16:47:14.103404Z"
    },
    "trusted": true
   },
   "outputs": [
    {
     "name": "stdout",
     "output_type": "stream",
     "text": [
      "/kaggle/working\n"
     ]
    }
   ],
   "source": [
    "!pwd"
   ]
  },
  {
   "cell_type": "code",
   "execution_count": 6,
   "metadata": {
    "execution": {
     "iopub.execute_input": "2025-05-27T16:47:15.206167Z",
     "iopub.status.busy": "2025-05-27T16:47:15.205898Z",
     "iopub.status.idle": "2025-05-27T16:47:15.213844Z",
     "shell.execute_reply": "2025-05-27T16:47:15.213201Z",
     "shell.execute_reply.started": "2025-05-27T16:47:15.206144Z"
    },
    "trusted": true
   },
   "outputs": [
    {
     "name": "stdout",
     "output_type": "stream",
     "text": [
      "/kaggle/working/PFE-Module1/YOLOv8-DeepSORT-Object-Tracking\n"
     ]
    }
   ],
   "source": [
    "%cd {home1}"
   ]
  },
  {
   "cell_type": "code",
   "execution_count": 7,
   "metadata": {
    "execution": {
     "iopub.execute_input": "2025-05-27T16:47:16.238901Z",
     "iopub.status.busy": "2025-05-27T16:47:16.238240Z",
     "iopub.status.idle": "2025-05-27T16:47:37.251995Z",
     "shell.execute_reply": "2025-05-27T16:47:37.251296Z",
     "shell.execute_reply.started": "2025-05-27T16:47:16.238877Z"
    },
    "trusted": true
   },
   "outputs": [
    {
     "name": "stdout",
     "output_type": "stream",
     "text": [
      "Obtaining file:///kaggle/working/PFE-Module1/YOLOv8-DeepSORT-Object-Tracking\n",
      "  Preparing metadata (setup.py) ... \u001b[?25l\u001b[?25hdone\n",
      "Collecting pipdeptree (from ultralytics==8.0.3)\n",
      "  Downloading pipdeptree-2.26.1-py3-none-any.whl.metadata (14 kB)\n",
      "Collecting hydra-core>=1.2.0 (from ultralytics==8.0.3)\n",
      "  Downloading hydra_core-1.3.2-py3-none-any.whl.metadata (5.5 kB)\n",
      "Requirement already satisfied: matplotlib>=3.2.2 in /usr/local/lib/python3.11/dist-packages (from ultralytics==8.0.3) (3.7.2)\n",
      "Requirement already satisfied: numpy>=1.18.5 in /usr/local/lib/python3.11/dist-packages (from ultralytics==8.0.3) (1.26.4)\n",
      "Requirement already satisfied: opencv-python>=4.1.1 in /usr/local/lib/python3.11/dist-packages (from ultralytics==8.0.3) (4.11.0.86)\n",
      "Requirement already satisfied: Pillow>=7.1.2 in /usr/local/lib/python3.11/dist-packages (from ultralytics==8.0.3) (11.1.0)\n",
      "Requirement already satisfied: PyYAML>=5.3.1 in /usr/local/lib/python3.11/dist-packages (from ultralytics==8.0.3) (6.0.2)\n",
      "Requirement already satisfied: requests>=2.23.0 in /usr/local/lib/python3.11/dist-packages (from ultralytics==8.0.3) (2.32.3)\n",
      "Requirement already satisfied: scipy>=1.4.1 in /usr/local/lib/python3.11/dist-packages (from ultralytics==8.0.3) (1.15.2)\n",
      "Requirement already satisfied: tqdm>=4.64.0 in /usr/local/lib/python3.11/dist-packages (from ultralytics==8.0.3) (4.67.1)\n",
      "Requirement already satisfied: tensorboard>=2.4.1 in /usr/local/lib/python3.11/dist-packages (from ultralytics==8.0.3) (2.18.0)\n",
      "Requirement already satisfied: pandas>=1.1.4 in /usr/local/lib/python3.11/dist-packages (from ultralytics==8.0.3) (2.2.3)\n",
      "Requirement already satisfied: seaborn>=0.11.0 in /usr/local/lib/python3.11/dist-packages (from ultralytics==8.0.3) (0.12.2)\n",
      "Requirement already satisfied: ipython in /usr/local/lib/python3.11/dist-packages (from ultralytics==8.0.3) (7.34.0)\n",
      "Requirement already satisfied: psutil in /usr/local/lib/python3.11/dist-packages (from ultralytics==8.0.3) (7.0.0)\n",
      "Collecting thop>=0.1.1 (from ultralytics==8.0.3)\n",
      "  Downloading thop-0.1.1.post2209072238-py3-none-any.whl.metadata (2.7 kB)\n",
      "Collecting roboflow (from ultralytics==8.0.3)\n",
      "  Downloading roboflow-1.1.64-py3-none-any.whl.metadata (9.7 kB)\n",
      "Requirement already satisfied: GitPython>=3.1.24 in /usr/local/lib/python3.11/dist-packages (from ultralytics==8.0.3) (3.1.44)\n",
      "Collecting check-manifest (from ultralytics==8.0.3)\n",
      "  Downloading check_manifest-0.50-py3-none-any.whl.metadata (20 kB)\n",
      "Requirement already satisfied: pytest in /usr/local/lib/python3.11/dist-packages (from ultralytics==8.0.3) (8.3.5)\n",
      "Collecting pytest-cov (from ultralytics==8.0.3)\n",
      "  Downloading pytest_cov-6.1.1-py3-none-any.whl.metadata (28 kB)\n",
      "Requirement already satisfied: coverage in /usr/local/lib/python3.11/dist-packages (from ultralytics==8.0.3) (7.8.0)\n",
      "Collecting mkdocs (from ultralytics==8.0.3)\n",
      "  Downloading mkdocs-1.6.1-py3-none-any.whl.metadata (6.0 kB)\n",
      "Collecting mkdocstrings[python] (from ultralytics==8.0.3)\n",
      "  Downloading mkdocstrings-0.29.1-py3-none-any.whl.metadata (8.3 kB)\n",
      "Collecting mkdocs-material (from ultralytics==8.0.3)\n",
      "  Downloading mkdocs_material-9.6.14-py3-none-any.whl.metadata (18 kB)\n",
      "Requirement already satisfied: gitdb<5,>=4.0.1 in /usr/local/lib/python3.11/dist-packages (from GitPython>=3.1.24->ultralytics==8.0.3) (4.0.12)\n",
      "Requirement already satisfied: omegaconf<2.4,>=2.2 in /usr/local/lib/python3.11/dist-packages (from hydra-core>=1.2.0->ultralytics==8.0.3) (2.3.0)\n",
      "Requirement already satisfied: antlr4-python3-runtime==4.9.* in /usr/local/lib/python3.11/dist-packages (from hydra-core>=1.2.0->ultralytics==8.0.3) (4.9.3)\n",
      "Requirement already satisfied: packaging in /usr/local/lib/python3.11/dist-packages (from hydra-core>=1.2.0->ultralytics==8.0.3) (25.0)\n",
      "Requirement already satisfied: contourpy>=1.0.1 in /usr/local/lib/python3.11/dist-packages (from matplotlib>=3.2.2->ultralytics==8.0.3) (1.3.1)\n",
      "Requirement already satisfied: cycler>=0.10 in /usr/local/lib/python3.11/dist-packages (from matplotlib>=3.2.2->ultralytics==8.0.3) (0.12.1)\n",
      "Requirement already satisfied: fonttools>=4.22.0 in /usr/local/lib/python3.11/dist-packages (from matplotlib>=3.2.2->ultralytics==8.0.3) (4.57.0)\n",
      "Requirement already satisfied: kiwisolver>=1.0.1 in /usr/local/lib/python3.11/dist-packages (from matplotlib>=3.2.2->ultralytics==8.0.3) (1.4.8)\n",
      "Requirement already satisfied: pyparsing<3.1,>=2.3.1 in /usr/local/lib/python3.11/dist-packages (from matplotlib>=3.2.2->ultralytics==8.0.3) (3.0.9)\n",
      "Requirement already satisfied: python-dateutil>=2.7 in /usr/local/lib/python3.11/dist-packages (from matplotlib>=3.2.2->ultralytics==8.0.3) (2.9.0.post0)\n",
      "Requirement already satisfied: mkl_fft in /usr/local/lib/python3.11/dist-packages (from numpy>=1.18.5->ultralytics==8.0.3) (1.3.8)\n",
      "Requirement already satisfied: mkl_random in /usr/local/lib/python3.11/dist-packages (from numpy>=1.18.5->ultralytics==8.0.3) (1.2.4)\n",
      "Requirement already satisfied: mkl_umath in /usr/local/lib/python3.11/dist-packages (from numpy>=1.18.5->ultralytics==8.0.3) (0.1.1)\n",
      "Requirement already satisfied: mkl in /usr/local/lib/python3.11/dist-packages (from numpy>=1.18.5->ultralytics==8.0.3) (2025.1.0)\n",
      "Requirement already satisfied: tbb4py in /usr/local/lib/python3.11/dist-packages (from numpy>=1.18.5->ultralytics==8.0.3) (2022.1.0)\n",
      "Requirement already satisfied: mkl-service in /usr/local/lib/python3.11/dist-packages (from numpy>=1.18.5->ultralytics==8.0.3) (2.4.1)\n",
      "Requirement already satisfied: pytz>=2020.1 in /usr/local/lib/python3.11/dist-packages (from pandas>=1.1.4->ultralytics==8.0.3) (2025.2)\n",
      "Requirement already satisfied: tzdata>=2022.7 in /usr/local/lib/python3.11/dist-packages (from pandas>=1.1.4->ultralytics==8.0.3) (2025.2)\n",
      "Requirement already satisfied: charset-normalizer<4,>=2 in /usr/local/lib/python3.11/dist-packages (from requests>=2.23.0->ultralytics==8.0.3) (3.4.2)\n",
      "Requirement already satisfied: idna<4,>=2.5 in /usr/local/lib/python3.11/dist-packages (from requests>=2.23.0->ultralytics==8.0.3) (3.10)\n",
      "Requirement already satisfied: urllib3<3,>=1.21.1 in /usr/local/lib/python3.11/dist-packages (from requests>=2.23.0->ultralytics==8.0.3) (2.4.0)\n",
      "Requirement already satisfied: certifi>=2017.4.17 in /usr/local/lib/python3.11/dist-packages (from requests>=2.23.0->ultralytics==8.0.3) (2025.4.26)\n",
      "Requirement already satisfied: absl-py>=0.4 in /usr/local/lib/python3.11/dist-packages (from tensorboard>=2.4.1->ultralytics==8.0.3) (1.4.0)\n",
      "Requirement already satisfied: grpcio>=1.48.2 in /usr/local/lib/python3.11/dist-packages (from tensorboard>=2.4.1->ultralytics==8.0.3) (1.72.0rc1)\n",
      "Requirement already satisfied: markdown>=2.6.8 in /usr/local/lib/python3.11/dist-packages (from tensorboard>=2.4.1->ultralytics==8.0.3) (3.7)\n",
      "Requirement already satisfied: protobuf!=4.24.0,>=3.19.6 in /usr/local/lib/python3.11/dist-packages (from tensorboard>=2.4.1->ultralytics==8.0.3) (3.20.3)\n",
      "Requirement already satisfied: setuptools>=41.0.0 in /usr/local/lib/python3.11/dist-packages (from tensorboard>=2.4.1->ultralytics==8.0.3) (75.2.0)\n",
      "Requirement already satisfied: six>1.9 in /usr/local/lib/python3.11/dist-packages (from tensorboard>=2.4.1->ultralytics==8.0.3) (1.17.0)\n",
      "Requirement already satisfied: tensorboard-data-server<0.8.0,>=0.7.0 in /usr/local/lib/python3.11/dist-packages (from tensorboard>=2.4.1->ultralytics==8.0.3) (0.7.2)\n",
      "Requirement already satisfied: werkzeug>=1.0.1 in /usr/local/lib/python3.11/dist-packages (from tensorboard>=2.4.1->ultralytics==8.0.3) (3.1.3)\n",
      "Requirement already satisfied: torch in /usr/local/lib/python3.11/dist-packages (from thop>=0.1.1->ultralytics==8.0.3) (2.1.0+cu118)\n",
      "Collecting build>=0.1 (from check-manifest->ultralytics==8.0.3)\n",
      "  Downloading build-1.2.2.post1-py3-none-any.whl.metadata (6.5 kB)\n",
      "Requirement already satisfied: jedi>=0.16 in /usr/local/lib/python3.11/dist-packages (from ipython->ultralytics==8.0.3) (0.19.2)\n",
      "Requirement already satisfied: decorator in /usr/local/lib/python3.11/dist-packages (from ipython->ultralytics==8.0.3) (4.4.2)\n",
      "Requirement already satisfied: pickleshare in /usr/local/lib/python3.11/dist-packages (from ipython->ultralytics==8.0.3) (0.7.5)\n",
      "Requirement already satisfied: traitlets>=4.2 in /usr/local/lib/python3.11/dist-packages (from ipython->ultralytics==8.0.3) (5.7.1)\n",
      "Requirement already satisfied: prompt-toolkit!=3.0.0,!=3.0.1,<3.1.0,>=2.0.0 in /usr/local/lib/python3.11/dist-packages (from ipython->ultralytics==8.0.3) (3.0.50)\n",
      "Requirement already satisfied: pygments in /usr/local/lib/python3.11/dist-packages (from ipython->ultralytics==8.0.3) (2.19.1)\n",
      "Requirement already satisfied: backcall in /usr/local/lib/python3.11/dist-packages (from ipython->ultralytics==8.0.3) (0.2.0)\n",
      "Requirement already satisfied: matplotlib-inline in /usr/local/lib/python3.11/dist-packages (from ipython->ultralytics==8.0.3) (0.1.7)\n",
      "Requirement already satisfied: pexpect>4.3 in /usr/local/lib/python3.11/dist-packages (from ipython->ultralytics==8.0.3) (4.9.0)\n",
      "Requirement already satisfied: click>=7.0 in /usr/local/lib/python3.11/dist-packages (from mkdocs->ultralytics==8.0.3) (8.1.8)\n",
      "Collecting ghp-import>=1.0 (from mkdocs->ultralytics==8.0.3)\n",
      "  Downloading ghp_import-2.1.0-py3-none-any.whl.metadata (7.2 kB)\n",
      "Requirement already satisfied: jinja2>=2.11.1 in /usr/local/lib/python3.11/dist-packages (from mkdocs->ultralytics==8.0.3) (3.1.6)\n",
      "Requirement already satisfied: markupsafe>=2.0.1 in /usr/local/lib/python3.11/dist-packages (from mkdocs->ultralytics==8.0.3) (3.0.2)\n",
      "Collecting mergedeep>=1.3.4 (from mkdocs->ultralytics==8.0.3)\n",
      "  Downloading mergedeep-1.3.4-py3-none-any.whl.metadata (4.3 kB)\n",
      "Collecting mkdocs-get-deps>=0.2.0 (from mkdocs->ultralytics==8.0.3)\n",
      "  Downloading mkdocs_get_deps-0.2.0-py3-none-any.whl.metadata (4.0 kB)\n",
      "Collecting pathspec>=0.11.1 (from mkdocs->ultralytics==8.0.3)\n",
      "  Downloading pathspec-0.12.1-py3-none-any.whl.metadata (21 kB)\n",
      "Collecting pyyaml-env-tag>=0.1 (from mkdocs->ultralytics==8.0.3)\n",
      "  Downloading pyyaml_env_tag-1.1-py3-none-any.whl.metadata (5.5 kB)\n",
      "Requirement already satisfied: watchdog>=2.0 in /usr/local/lib/python3.11/dist-packages (from mkdocs->ultralytics==8.0.3) (6.0.0)\n",
      "Requirement already satisfied: babel~=2.10 in /usr/local/lib/python3.11/dist-packages (from mkdocs-material->ultralytics==8.0.3) (2.17.0)\n",
      "Collecting backrefs~=5.7.post1 (from mkdocs-material->ultralytics==8.0.3)\n",
      "  Downloading backrefs-5.8-py311-none-any.whl.metadata (3.3 kB)\n",
      "Requirement already satisfied: colorama~=0.4 in /usr/local/lib/python3.11/dist-packages (from mkdocs-material->ultralytics==8.0.3) (0.4.6)\n",
      "Collecting mkdocs-material-extensions~=1.3 (from mkdocs-material->ultralytics==8.0.3)\n",
      "  Downloading mkdocs_material_extensions-1.3.1-py3-none-any.whl.metadata (6.9 kB)\n",
      "Collecting paginate~=0.5 (from mkdocs-material->ultralytics==8.0.3)\n",
      "  Downloading paginate-0.5.7-py2.py3-none-any.whl.metadata (11 kB)\n",
      "Collecting pymdown-extensions~=10.2 (from mkdocs-material->ultralytics==8.0.3)\n",
      "  Downloading pymdown_extensions-10.15-py3-none-any.whl.metadata (3.0 kB)\n",
      "Collecting mkdocs-autorefs>=1.4 (from mkdocstrings[python]; extra == \"dev\"->ultralytics==8.0.3)\n",
      "  Downloading mkdocs_autorefs-1.4.2-py3-none-any.whl.metadata (13 kB)\n",
      "Collecting mkdocstrings-python>=1.16.2 (from mkdocstrings[python]; extra == \"dev\"->ultralytics==8.0.3)\n",
      "  Downloading mkdocstrings_python-1.16.11-py3-none-any.whl.metadata (5.6 kB)\n",
      "Collecting pip>=24.2 (from pipdeptree->ultralytics==8.0.3)\n",
      "  Downloading pip-25.1.1-py3-none-any.whl.metadata (3.6 kB)\n",
      "Requirement already satisfied: iniconfig in /usr/local/lib/python3.11/dist-packages (from pytest->ultralytics==8.0.3) (2.1.0)\n",
      "Requirement already satisfied: pluggy<2,>=1.5 in /usr/local/lib/python3.11/dist-packages (from pytest->ultralytics==8.0.3) (1.5.0)\n",
      "Collecting idna<4,>=2.5 (from requests>=2.23.0->ultralytics==8.0.3)\n",
      "  Downloading idna-3.7-py3-none-any.whl.metadata (9.9 kB)\n",
      "Collecting opencv-python-headless==4.10.0.84 (from roboflow->ultralytics==8.0.3)\n",
      "  Downloading opencv_python_headless-4.10.0.84-cp37-abi3-manylinux_2_17_x86_64.manylinux2014_x86_64.whl.metadata (20 kB)\n",
      "Collecting pillow-heif>=0.18.0 (from roboflow->ultralytics==8.0.3)\n",
      "  Downloading pillow_heif-0.22.0-cp311-cp311-manylinux_2_17_x86_64.manylinux2014_x86_64.whl.metadata (9.6 kB)\n",
      "Collecting python-dotenv (from roboflow->ultralytics==8.0.3)\n",
      "  Downloading python_dotenv-1.1.0-py3-none-any.whl.metadata (24 kB)\n",
      "Requirement already satisfied: requests-toolbelt in /usr/local/lib/python3.11/dist-packages (from roboflow->ultralytics==8.0.3) (1.0.0)\n",
      "Collecting filetype (from roboflow->ultralytics==8.0.3)\n",
      "  Downloading filetype-1.2.0-py2.py3-none-any.whl.metadata (6.5 kB)\n",
      "Collecting pyproject_hooks (from build>=0.1->check-manifest->ultralytics==8.0.3)\n",
      "  Downloading pyproject_hooks-1.2.0-py3-none-any.whl.metadata (1.3 kB)\n",
      "Requirement already satisfied: smmap<6,>=3.0.1 in /usr/local/lib/python3.11/dist-packages (from gitdb<5,>=4.0.1->GitPython>=3.1.24->ultralytics==8.0.3) (5.0.2)\n",
      "Requirement already satisfied: parso<0.9.0,>=0.8.4 in /usr/local/lib/python3.11/dist-packages (from jedi>=0.16->ipython->ultralytics==8.0.3) (0.8.4)\n",
      "Requirement already satisfied: platformdirs>=2.2.0 in /usr/local/lib/python3.11/dist-packages (from mkdocs-get-deps>=0.2.0->mkdocs->ultralytics==8.0.3) (4.3.8)\n",
      "Collecting griffe>=1.6.2 (from mkdocstrings-python>=1.16.2->mkdocstrings[python]; extra == \"dev\"->ultralytics==8.0.3)\n",
      "  Downloading griffe-1.7.3-py3-none-any.whl.metadata (5.0 kB)\n",
      "Requirement already satisfied: ptyprocess>=0.5 in /usr/local/lib/python3.11/dist-packages (from pexpect>4.3->ipython->ultralytics==8.0.3) (0.7.0)\n",
      "Requirement already satisfied: wcwidth in /usr/local/lib/python3.11/dist-packages (from prompt-toolkit!=3.0.0,!=3.0.1,<3.1.0,>=2.0.0->ipython->ultralytics==8.0.3) (0.2.13)\n",
      "Requirement already satisfied: intel-openmp<2026,>=2024 in /usr/local/lib/python3.11/dist-packages (from mkl->numpy>=1.18.5->ultralytics==8.0.3) (2024.2.0)\n",
      "Requirement already satisfied: tbb==2022.* in /usr/local/lib/python3.11/dist-packages (from mkl->numpy>=1.18.5->ultralytics==8.0.3) (2022.1.0)\n",
      "Requirement already satisfied: tcmlib==1.* in /usr/local/lib/python3.11/dist-packages (from tbb==2022.*->mkl->numpy>=1.18.5->ultralytics==8.0.3) (1.3.0)\n",
      "Requirement already satisfied: intel-cmplr-lib-rt in /usr/local/lib/python3.11/dist-packages (from mkl_umath->numpy>=1.18.5->ultralytics==8.0.3) (2024.2.0)\n",
      "Requirement already satisfied: filelock in /usr/local/lib/python3.11/dist-packages (from torch->thop>=0.1.1->ultralytics==8.0.3) (3.18.0)\n",
      "Requirement already satisfied: typing-extensions in /usr/local/lib/python3.11/dist-packages (from torch->thop>=0.1.1->ultralytics==8.0.3) (4.13.2)\n",
      "Requirement already satisfied: sympy in /usr/local/lib/python3.11/dist-packages (from torch->thop>=0.1.1->ultralytics==8.0.3) (1.13.1)\n",
      "Requirement already satisfied: networkx in /usr/local/lib/python3.11/dist-packages (from torch->thop>=0.1.1->ultralytics==8.0.3) (3.4.2)\n",
      "Requirement already satisfied: fsspec in /usr/local/lib/python3.11/dist-packages (from torch->thop>=0.1.1->ultralytics==8.0.3) (2025.3.2)\n",
      "Requirement already satisfied: triton==2.1.0 in /usr/local/lib/python3.11/dist-packages (from torch->thop>=0.1.1->ultralytics==8.0.3) (2.1.0)\n",
      "Requirement already satisfied: intel-cmplr-lib-ur==2024.2.0 in /usr/local/lib/python3.11/dist-packages (from intel-openmp<2026,>=2024->mkl->numpy>=1.18.5->ultralytics==8.0.3) (2024.2.0)\n",
      "Requirement already satisfied: mpmath<1.4,>=1.1.0 in /usr/local/lib/python3.11/dist-packages (from sympy->torch->thop>=0.1.1->ultralytics==8.0.3) (1.3.0)\n",
      "Downloading hydra_core-1.3.2-py3-none-any.whl (154 kB)\n",
      "\u001b[2K   \u001b[90m━━━━━━━━━━━━━━━━━━━━━━━━━━━━━━━━━━━━━━━━\u001b[0m \u001b[32m154.5/154.5 kB\u001b[0m \u001b[31m7.3 MB/s\u001b[0m eta \u001b[36m0:00:00\u001b[0m\n",
      "\u001b[?25hDownloading thop-0.1.1.post2209072238-py3-none-any.whl (15 kB)\n",
      "Downloading check_manifest-0.50-py3-none-any.whl (20 kB)\n",
      "Downloading mkdocs-1.6.1-py3-none-any.whl (3.9 MB)\n",
      "\u001b[2K   \u001b[90m━━━━━━━━━━━━━━━━━━━━━━━━━━━━━━━━━━━━━━━━\u001b[0m \u001b[32m3.9/3.9 MB\u001b[0m \u001b[31m35.8 MB/s\u001b[0m eta \u001b[36m0:00:00\u001b[0m00:01\u001b[0m00:01\u001b[0m\n",
      "\u001b[?25hDownloading mkdocs_material-9.6.14-py3-none-any.whl (8.7 MB)\n",
      "\u001b[2K   \u001b[90m━━━━━━━━━━━━━━━━━━━━━━━━━━━━━━━━━━━━━━━━\u001b[0m \u001b[32m8.7/8.7 MB\u001b[0m \u001b[31m83.1 MB/s\u001b[0m eta \u001b[36m0:00:00\u001b[0m:00:01\u001b[0m00:01\u001b[0m\n",
      "\u001b[?25hDownloading pipdeptree-2.26.1-py3-none-any.whl (32 kB)\n",
      "Downloading pytest_cov-6.1.1-py3-none-any.whl (23 kB)\n",
      "Downloading roboflow-1.1.64-py3-none-any.whl (85 kB)\n",
      "\u001b[2K   \u001b[90m━━━━━━━━━━━━━━━━━━━━━━━━━━━━━━━━━━━━━━━━\u001b[0m \u001b[32m85.4/85.4 kB\u001b[0m \u001b[31m6.2 MB/s\u001b[0m eta \u001b[36m0:00:00\u001b[0m\n",
      "\u001b[?25hDownloading idna-3.7-py3-none-any.whl (66 kB)\n",
      "\u001b[2K   \u001b[90m━━━━━━━━━━━━━━━━━━━━━━━━━━━━━━━━━━━━━━━━\u001b[0m \u001b[32m66.8/66.8 kB\u001b[0m \u001b[31m4.3 MB/s\u001b[0m eta \u001b[36m0:00:00\u001b[0m\n",
      "\u001b[?25hDownloading opencv_python_headless-4.10.0.84-cp37-abi3-manylinux_2_17_x86_64.manylinux2014_x86_64.whl (49.9 MB)\n",
      "\u001b[2K   \u001b[90m━━━━━━━━━━━━━━━━━━━━━━━━━━━━━━━━━━━━━━━━\u001b[0m \u001b[32m49.9/49.9 MB\u001b[0m \u001b[31m36.5 MB/s\u001b[0m eta \u001b[36m0:00:00\u001b[0m:00:01\u001b[0m00:01\u001b[0m\n",
      "\u001b[?25hDownloading backrefs-5.8-py311-none-any.whl (392 kB)\n",
      "\u001b[2K   \u001b[90m━━━━━━━━━━━━━━━━━━━━━━━━━━━━━━━━━━━━━━━━\u001b[0m \u001b[32m392.1/392.1 kB\u001b[0m \u001b[31m13.0 MB/s\u001b[0m eta \u001b[36m0:00:00\u001b[0m\n",
      "\u001b[?25hDownloading build-1.2.2.post1-py3-none-any.whl (22 kB)\n",
      "Downloading ghp_import-2.1.0-py3-none-any.whl (11 kB)\n",
      "Downloading mergedeep-1.3.4-py3-none-any.whl (6.4 kB)\n",
      "Downloading mkdocs_autorefs-1.4.2-py3-none-any.whl (24 kB)\n",
      "Downloading mkdocs_get_deps-0.2.0-py3-none-any.whl (9.5 kB)\n",
      "Downloading mkdocs_material_extensions-1.3.1-py3-none-any.whl (8.7 kB)\n",
      "Downloading mkdocstrings_python-1.16.11-py3-none-any.whl (124 kB)\n",
      "\u001b[2K   \u001b[90m━━━━━━━━━━━━━━━━━━━━━━━━━━━━━━━━━━━━━━━━\u001b[0m \u001b[32m124.3/124.3 kB\u001b[0m \u001b[31m9.7 MB/s\u001b[0m eta \u001b[36m0:00:00\u001b[0m\n",
      "\u001b[?25hDownloading mkdocstrings-0.29.1-py3-none-any.whl (1.6 MB)\n",
      "\u001b[2K   \u001b[90m━━━━━━━━━━━━━━━━━━━━━━━━━━━━━━━━━━━━━━━━\u001b[0m \u001b[32m1.6/1.6 MB\u001b[0m \u001b[31m59.9 MB/s\u001b[0m eta \u001b[36m0:00:00\u001b[0m\n",
      "\u001b[?25hDownloading paginate-0.5.7-py2.py3-none-any.whl (13 kB)\n",
      "Downloading pathspec-0.12.1-py3-none-any.whl (31 kB)\n",
      "Downloading pillow_heif-0.22.0-cp311-cp311-manylinux_2_17_x86_64.manylinux2014_x86_64.whl (7.8 MB)\n",
      "\u001b[2K   \u001b[90m━━━━━━━━━━━━━━━━━━━━━━━━━━━━━━━━━━━━━━━━\u001b[0m \u001b[32m7.8/7.8 MB\u001b[0m \u001b[31m101.6 MB/s\u001b[0m eta \u001b[36m0:00:00\u001b[0m00:01\u001b[0m00:01\u001b[0m\n",
      "\u001b[?25hDownloading pip-25.1.1-py3-none-any.whl (1.8 MB)\n",
      "\u001b[2K   \u001b[90m━━━━━━━━━━━━━━━━━━━━━━━━━━━━━━━━━━━━━━━━\u001b[0m \u001b[32m1.8/1.8 MB\u001b[0m \u001b[31m69.3 MB/s\u001b[0m eta \u001b[36m0:00:00\u001b[0m\n",
      "\u001b[?25hDownloading pymdown_extensions-10.15-py3-none-any.whl (265 kB)\n",
      "\u001b[2K   \u001b[90m━━━━━━━━━━━━━━━━━━━━━━━━━━━━━━━━━━━━━━━━\u001b[0m \u001b[32m265.8/265.8 kB\u001b[0m \u001b[31m17.6 MB/s\u001b[0m eta \u001b[36m0:00:00\u001b[0m\n",
      "\u001b[?25hDownloading pyyaml_env_tag-1.1-py3-none-any.whl (4.7 kB)\n",
      "Downloading filetype-1.2.0-py2.py3-none-any.whl (19 kB)\n",
      "Downloading python_dotenv-1.1.0-py3-none-any.whl (20 kB)\n",
      "Downloading griffe-1.7.3-py3-none-any.whl (129 kB)\n",
      "\u001b[2K   \u001b[90m━━━━━━━━━━━━━━━━━━━━━━━━━━━━━━━━━━━━━━━━\u001b[0m \u001b[32m129.3/129.3 kB\u001b[0m \u001b[31m10.7 MB/s\u001b[0m eta \u001b[36m0:00:00\u001b[0m\n",
      "\u001b[?25hDownloading pyproject_hooks-1.2.0-py3-none-any.whl (10 kB)\n",
      "Installing collected packages: paginate, filetype, pyyaml-env-tag, python-dotenv, pyproject_hooks, pymdown-extensions, pip, pillow-heif, pathspec, mkdocs-material-extensions, mergedeep, idna, griffe, backrefs, pytest-cov, pipdeptree, mkdocs-get-deps, hydra-core, ghp-import, build, thop, mkdocs, check-manifest, mkdocs-material, mkdocs-autorefs, mkdocstrings, mkdocstrings-python, opencv-python-headless, roboflow, ultralytics\n",
      "  Attempting uninstall: pip\n",
      "    Found existing installation: pip 24.1.2\n",
      "    Uninstalling pip-24.1.2:\n",
      "      Successfully uninstalled pip-24.1.2\n",
      "  Attempting uninstall: idna\n",
      "    Found existing installation: idna 3.10\n",
      "    Uninstalling idna-3.10:\n",
      "      Successfully uninstalled idna-3.10\n",
      "  Attempting uninstall: opencv-python-headless\n",
      "    Found existing installation: opencv-python-headless 4.11.0.86\n",
      "    Uninstalling opencv-python-headless-4.11.0.86:\n",
      "      Successfully uninstalled opencv-python-headless-4.11.0.86\n",
      "  Running setup.py develop for ultralytics\n",
      "\u001b[31mERROR: pip's dependency resolver does not currently take into account all the packages that are installed. This behaviour is the source of the following dependency conflicts.\n",
      "datasets 3.6.0 requires fsspec[http]<=2025.3.0,>=2023.1.0, but you have fsspec 2025.3.2 which is incompatible.\n",
      "google-colab 1.0.0 requires google-auth==2.38.0, but you have google-auth 2.40.1 which is incompatible.\n",
      "google-colab 1.0.0 requires notebook==6.5.7, but you have notebook 6.5.4 which is incompatible.\n",
      "google-colab 1.0.0 requires pandas==2.2.2, but you have pandas 2.2.3 which is incompatible.\n",
      "bigframes 1.42.0 requires rich<14,>=12.4.4, but you have rich 14.0.0 which is incompatible.\n",
      "google-spark-connect 0.5.2 requires google-api-core>=2.19.1, but you have google-api-core 1.34.1 which is incompatible.\n",
      "google-cloud-bigtable 2.30.0 requires google-api-core[grpc]<3.0.0,>=2.16.0, but you have google-api-core 1.34.1 which is incompatible.\n",
      "google-cloud-storage 2.19.0 requires google-api-core<3.0.0dev,>=2.15.0, but you have google-api-core 1.34.1 which is incompatible.\n",
      "pandas-gbq 0.28.0 requires google-api-core<3.0.0dev,>=2.10.2, but you have google-api-core 1.34.1 which is incompatible.\u001b[0m\u001b[31m\n",
      "\u001b[0mSuccessfully installed backrefs-5.8 build-1.2.2.post1 check-manifest-0.50 filetype-1.2.0 ghp-import-2.1.0 griffe-1.7.3 hydra-core-1.3.2 idna-3.7 mergedeep-1.3.4 mkdocs-1.6.1 mkdocs-autorefs-1.4.2 mkdocs-get-deps-0.2.0 mkdocs-material-9.6.14 mkdocs-material-extensions-1.3.1 mkdocstrings-0.29.1 mkdocstrings-python-1.16.11 opencv-python-headless-4.10.0.84 paginate-0.5.7 pathspec-0.12.1 pillow-heif-0.22.0 pip-25.1.1 pipdeptree-2.26.1 pymdown-extensions-10.15 pyproject_hooks-1.2.0 pytest-cov-6.1.1 python-dotenv-1.1.0 pyyaml-env-tag-1.1 roboflow-1.1.64 thop-0.1.1.post2209072238 ultralytics-8.0.3\n"
     ]
    }
   ],
   "source": [
    "!pip install -e '.[dev]'"
   ]
  },
  {
   "cell_type": "code",
   "execution_count": 8,
   "metadata": {
    "execution": {
     "iopub.execute_input": "2025-05-27T16:56:42.879321Z",
     "iopub.status.busy": "2025-05-27T16:56:42.878988Z",
     "iopub.status.idle": "2025-05-27T16:56:42.885096Z",
     "shell.execute_reply": "2025-05-27T16:56:42.884386Z",
     "shell.execute_reply.started": "2025-05-27T16:56:42.879291Z"
    },
    "trusted": true
   },
   "outputs": [
    {
     "name": "stdout",
     "output_type": "stream",
     "text": [
      "/kaggle/working/PFE-Module1/YOLOv8-DeepSORT-Object-Tracking/ultralytics/yolo/v8/detect\n"
     ]
    }
   ],
   "source": [
    "%cd {home2}"
   ]
  },
  {
   "cell_type": "code",
   "execution_count": 9,
   "metadata": {
    "execution": {
     "iopub.execute_input": "2025-05-27T16:56:43.922170Z",
     "iopub.status.busy": "2025-05-27T16:56:43.921720Z",
     "iopub.status.idle": "2025-05-27T16:56:45.401064Z",
     "shell.execute_reply": "2025-05-27T16:56:45.400375Z",
     "shell.execute_reply.started": "2025-05-27T16:56:43.922148Z"
    },
    "trusted": true
   },
   "outputs": [
    {
     "name": "stdout",
     "output_type": "stream",
     "text": [
      "Name: roboflow\n",
      "Version: 1.1.64\n",
      "Summary: Official Python package for working with the Roboflow API\n",
      "Home-page: https://github.com/roboflow-ai/roboflow-python\n",
      "Author: Roboflow\n",
      "Author-email: support@roboflow.com\n",
      "License: UNKNOWN\n",
      "Location: /usr/local/lib/python3.11/dist-packages\n",
      "Requires: certifi, cycler, filetype, idna, kiwisolver, matplotlib, numpy, opencv-python-headless, Pillow, pillow-heif, python-dateutil, python-dotenv, PyYAML, requests, requests-toolbelt, six, tqdm, urllib3\n",
      "Required-by: ultralytics\n"
     ]
    }
   ],
   "source": [
    "!pip show roboflow"
   ]
  },
  {
   "cell_type": "code",
   "execution_count": 10,
   "metadata": {
    "execution": {
     "iopub.execute_input": "2025-05-27T16:56:47.689865Z",
     "iopub.status.busy": "2025-05-27T16:56:47.689215Z",
     "iopub.status.idle": "2025-05-27T16:56:56.487157Z",
     "shell.execute_reply": "2025-05-27T16:56:56.486611Z",
     "shell.execute_reply.started": "2025-05-27T16:56:47.689834Z"
    },
    "trusted": true
   },
   "outputs": [
    {
     "name": "stdout",
     "output_type": "stream",
     "text": [
      "loading Roboflow workspace...\n",
      "loading Roboflow project...\n"
     ]
    },
    {
     "name": "stderr",
     "output_type": "stream",
     "text": [
      "Downloading Dataset Version Zip in detection-1 to yolov5pytorch:: 100%|██████████| 95856/95856 [00:03<00:00, 28174.59it/s]"
     ]
    },
    {
     "name": "stdout",
     "output_type": "stream",
     "text": [
      "\n"
     ]
    },
    {
     "name": "stderr",
     "output_type": "stream",
     "text": [
      "\n",
      "Extracting Dataset Version Zip to detection-1 in yolov5pytorch:: 100%|██████████| 9374/9374 [00:00<00:00, 10602.40it/s]\n"
     ]
    }
   ],
   "source": [
    "#import detection-1\n",
    "from roboflow import Roboflow\n",
    "\n",
    "rf = Roboflow(api_key=\"9j4H4mvkoQZ7DQ8REN58\")\n",
    "project = rf.workspace(\"drone-dataset-mvh8i\").project(\"detection-bzujh\")\n",
    "dataset = project.version(1).download(\"yolov5\")"
   ]
  },
  {
   "cell_type": "code",
   "execution_count": 11,
   "metadata": {
    "execution": {
     "iopub.execute_input": "2025-05-27T16:56:59.454491Z",
     "iopub.status.busy": "2025-05-27T16:56:59.453969Z",
     "iopub.status.idle": "2025-05-27T16:57:03.952832Z",
     "shell.execute_reply": "2025-05-27T16:57:03.951898Z",
     "shell.execute_reply.started": "2025-05-27T16:56:59.454467Z"
    },
    "trusted": true
   },
   "outputs": [
    {
     "name": "stdout",
     "output_type": "stream",
     "text": [
      "Downloading...\n",
      "From: https://drive.google.com/uc?id=11ZSZcG-bcbueXZC3rN08CM0qqX3eiHxf&confirm=t\n",
      "To: /kaggle/working/PFE-Module1/YOLOv8-DeepSORT-Object-Tracking/ultralytics/yolo/v8/detect/deep_sort_pytorch.zip\n",
      "100%|██████████████████████████████████████| 43.1M/43.1M [00:01<00:00, 28.9MB/s]\n"
     ]
    }
   ],
   "source": [
    "!gdown \"https://drive.google.com/uc?id=11ZSZcG-bcbueXZC3rN08CM0qqX3eiHxf&confirm=t\""
   ]
  },
  {
   "cell_type": "code",
   "execution_count": 12,
   "metadata": {
    "execution": {
     "iopub.execute_input": "2025-05-27T16:57:13.326579Z",
     "iopub.status.busy": "2025-05-27T16:57:13.326162Z",
     "iopub.status.idle": "2025-05-27T16:57:13.900734Z",
     "shell.execute_reply": "2025-05-27T16:57:13.899831Z",
     "shell.execute_reply.started": "2025-05-27T16:57:13.326549Z"
    },
    "trusted": true
   },
   "outputs": [
    {
     "name": "stdout",
     "output_type": "stream",
     "text": [
      "Archive:  deep_sort_pytorch.zip\n",
      "  inflating: deep_sort_pytorch/.gitignore  \n",
      "   creating: deep_sort_pytorch/configs/\n",
      "  inflating: deep_sort_pytorch/configs/deep_sort.yaml  \n",
      "   creating: deep_sort_pytorch/deep_sort/\n",
      "  inflating: deep_sort_pytorch/deep_sort/__init__.py  \n",
      "   creating: deep_sort_pytorch/deep_sort/__pycache__/\n",
      "  inflating: deep_sort_pytorch/deep_sort/__pycache__/__init__.cpython-310.pyc  \n",
      "  inflating: deep_sort_pytorch/deep_sort/__pycache__/__init__.cpython-37.pyc  \n",
      "  inflating: deep_sort_pytorch/deep_sort/__pycache__/__init__.cpython-38.pyc  \n",
      "  inflating: deep_sort_pytorch/deep_sort/__pycache__/deep_sort.cpython-310.pyc  \n",
      "  inflating: deep_sort_pytorch/deep_sort/__pycache__/deep_sort.cpython-37.pyc  \n",
      "  inflating: deep_sort_pytorch/deep_sort/__pycache__/deep_sort.cpython-38.pyc  \n",
      "   creating: deep_sort_pytorch/deep_sort/deep/\n",
      " extracting: deep_sort_pytorch/deep_sort/deep/__init__.py  \n",
      "   creating: deep_sort_pytorch/deep_sort/deep/__pycache__/\n",
      "  inflating: deep_sort_pytorch/deep_sort/deep/__pycache__/__init__.cpython-310.pyc  \n",
      "  inflating: deep_sort_pytorch/deep_sort/deep/__pycache__/__init__.cpython-37.pyc  \n",
      "  inflating: deep_sort_pytorch/deep_sort/deep/__pycache__/__init__.cpython-38.pyc  \n",
      "  inflating: deep_sort_pytorch/deep_sort/deep/__pycache__/feature_extractor.cpython-310.pyc  \n",
      "  inflating: deep_sort_pytorch/deep_sort/deep/__pycache__/feature_extractor.cpython-37.pyc  \n",
      "  inflating: deep_sort_pytorch/deep_sort/deep/__pycache__/feature_extractor.cpython-38.pyc  \n",
      "  inflating: deep_sort_pytorch/deep_sort/deep/__pycache__/model.cpython-310.pyc  \n",
      "  inflating: deep_sort_pytorch/deep_sort/deep/__pycache__/model.cpython-37.pyc  \n",
      "  inflating: deep_sort_pytorch/deep_sort/deep/__pycache__/model.cpython-38.pyc  \n",
      "   creating: deep_sort_pytorch/deep_sort/deep/checkpoint/\n",
      " extracting: deep_sort_pytorch/deep_sort/deep/checkpoint/.gitkeep  \n",
      "  inflating: deep_sort_pytorch/deep_sort/deep/checkpoint/ckpt.t7  \n",
      "  inflating: deep_sort_pytorch/deep_sort/deep/evaluate.py  \n",
      "  inflating: deep_sort_pytorch/deep_sort/deep/feature_extractor.py  \n",
      "  inflating: deep_sort_pytorch/deep_sort/deep/model.py  \n",
      "  inflating: deep_sort_pytorch/deep_sort/deep/original_model.py  \n",
      "  inflating: deep_sort_pytorch/deep_sort/deep/test.py  \n",
      "  inflating: deep_sort_pytorch/deep_sort/deep/train.jpg  \n",
      "  inflating: deep_sort_pytorch/deep_sort/deep/train.py  \n",
      "  inflating: deep_sort_pytorch/deep_sort/deep_sort.py  \n",
      "  inflating: deep_sort_pytorch/deep_sort/README.md  \n",
      "   creating: deep_sort_pytorch/deep_sort/sort - Copy/\n",
      " extracting: deep_sort_pytorch/deep_sort/sort - Copy/__init__.py  \n",
      "   creating: deep_sort_pytorch/deep_sort/sort - Copy/__pycache__/\n",
      "  inflating: deep_sort_pytorch/deep_sort/sort - Copy/__pycache__/__init__.cpython-37.pyc  \n",
      "  inflating: deep_sort_pytorch/deep_sort/sort - Copy/__pycache__/__init__.cpython-38.pyc  \n",
      "  inflating: deep_sort_pytorch/deep_sort/sort - Copy/__pycache__/detection.cpython-37.pyc  \n",
      "  inflating: deep_sort_pytorch/deep_sort/sort - Copy/__pycache__/detection.cpython-38.pyc  \n",
      "  inflating: deep_sort_pytorch/deep_sort/sort - Copy/__pycache__/iou_matching.cpython-37.pyc  \n",
      "  inflating: deep_sort_pytorch/deep_sort/sort - Copy/__pycache__/iou_matching.cpython-38.pyc  \n",
      "  inflating: deep_sort_pytorch/deep_sort/sort - Copy/__pycache__/kalman_filter.cpython-37.pyc  \n",
      "  inflating: deep_sort_pytorch/deep_sort/sort - Copy/__pycache__/kalman_filter.cpython-38.pyc  \n",
      "  inflating: deep_sort_pytorch/deep_sort/sort - Copy/__pycache__/linear_assignment.cpython-37.pyc  \n",
      "  inflating: deep_sort_pytorch/deep_sort/sort - Copy/__pycache__/linear_assignment.cpython-38.pyc  \n",
      "  inflating: deep_sort_pytorch/deep_sort/sort - Copy/__pycache__/nn_matching.cpython-37.pyc  \n",
      "  inflating: deep_sort_pytorch/deep_sort/sort - Copy/__pycache__/nn_matching.cpython-38.pyc  \n",
      "  inflating: deep_sort_pytorch/deep_sort/sort - Copy/__pycache__/track.cpython-37.pyc  \n",
      "  inflating: deep_sort_pytorch/deep_sort/sort - Copy/__pycache__/track.cpython-38.pyc  \n",
      "  inflating: deep_sort_pytorch/deep_sort/sort - Copy/__pycache__/tracker.cpython-37.pyc  \n",
      "  inflating: deep_sort_pytorch/deep_sort/sort - Copy/__pycache__/tracker.cpython-38.pyc  \n",
      "  inflating: deep_sort_pytorch/deep_sort/sort - Copy/iou_matching.py  \n",
      "  inflating: deep_sort_pytorch/deep_sort/sort - Copy/kalman_filter.py  \n",
      "  inflating: deep_sort_pytorch/deep_sort/sort - Copy/linear_assignment.py  \n",
      "  inflating: deep_sort_pytorch/deep_sort/sort - Copy/nn_matching.py  \n",
      "  inflating: deep_sort_pytorch/deep_sort/sort - Copy/preprocessing.py  \n",
      "   creating: deep_sort_pytorch/deep_sort/sort/\n",
      " extracting: deep_sort_pytorch/deep_sort/sort/__init__.py  \n",
      "   creating: deep_sort_pytorch/deep_sort/sort/__pycache__/\n",
      "  inflating: deep_sort_pytorch/deep_sort/sort/__pycache__/__init__.cpython-310.pyc  \n",
      "  inflating: deep_sort_pytorch/deep_sort/sort/__pycache__/__init__.cpython-37.pyc  \n",
      "  inflating: deep_sort_pytorch/deep_sort/sort/__pycache__/__init__.cpython-38.pyc  \n",
      "  inflating: deep_sort_pytorch/deep_sort/sort/__pycache__/detection.cpython-310.pyc  \n",
      "  inflating: deep_sort_pytorch/deep_sort/sort/__pycache__/detection.cpython-37.pyc  \n",
      "  inflating: deep_sort_pytorch/deep_sort/sort/__pycache__/detection.cpython-38.pyc  \n",
      "  inflating: deep_sort_pytorch/deep_sort/sort/__pycache__/iou_matching.cpython-310.pyc  \n",
      "  inflating: deep_sort_pytorch/deep_sort/sort/__pycache__/iou_matching.cpython-37.pyc  \n",
      "  inflating: deep_sort_pytorch/deep_sort/sort/__pycache__/iou_matching.cpython-38.pyc  \n",
      "  inflating: deep_sort_pytorch/deep_sort/sort/__pycache__/kalman_filter.cpython-310.pyc  \n",
      "  inflating: deep_sort_pytorch/deep_sort/sort/__pycache__/kalman_filter.cpython-37.pyc  \n",
      "  inflating: deep_sort_pytorch/deep_sort/sort/__pycache__/kalman_filter.cpython-38.pyc  \n",
      "  inflating: deep_sort_pytorch/deep_sort/sort/__pycache__/linear_assignment.cpython-310.pyc  \n",
      "  inflating: deep_sort_pytorch/deep_sort/sort/__pycache__/linear_assignment.cpython-37.pyc  \n",
      "  inflating: deep_sort_pytorch/deep_sort/sort/__pycache__/linear_assignment.cpython-38.pyc  \n",
      "  inflating: deep_sort_pytorch/deep_sort/sort/__pycache__/nn_matching.cpython-310.pyc  \n",
      "  inflating: deep_sort_pytorch/deep_sort/sort/__pycache__/nn_matching.cpython-37.pyc  \n",
      "  inflating: deep_sort_pytorch/deep_sort/sort/__pycache__/nn_matching.cpython-38.pyc  \n",
      "  inflating: deep_sort_pytorch/deep_sort/sort/__pycache__/track.cpython-310.pyc  \n",
      "  inflating: deep_sort_pytorch/deep_sort/sort/__pycache__/track.cpython-37.pyc  \n",
      "  inflating: deep_sort_pytorch/deep_sort/sort/__pycache__/track.cpython-38.pyc  \n",
      "  inflating: deep_sort_pytorch/deep_sort/sort/__pycache__/tracker.cpython-310.pyc  \n",
      "  inflating: deep_sort_pytorch/deep_sort/sort/__pycache__/tracker.cpython-37.pyc  \n",
      "  inflating: deep_sort_pytorch/deep_sort/sort/__pycache__/tracker.cpython-38.pyc  \n",
      "  inflating: deep_sort_pytorch/deep_sort/sort/detection.py  \n",
      "  inflating: deep_sort_pytorch/deep_sort/sort/iou_matching.py  \n",
      "  inflating: deep_sort_pytorch/deep_sort/sort/kalman_filter.py  \n",
      "  inflating: deep_sort_pytorch/deep_sort/sort/linear_assignment.py  \n",
      "  inflating: deep_sort_pytorch/deep_sort/sort/nn_matching.py  \n",
      "  inflating: deep_sort_pytorch/deep_sort/sort/preprocessing.py  \n",
      "  inflating: deep_sort_pytorch/deep_sort/sort/track.py  \n",
      "  inflating: deep_sort_pytorch/deep_sort/sort/tracker.py  \n",
      "  inflating: deep_sort_pytorch/LICENSE  \n",
      "  inflating: deep_sort_pytorch/README.md  \n",
      "   creating: deep_sort_pytorch/utils/\n",
      " extracting: deep_sort_pytorch/utils/__init__.py  \n",
      "   creating: deep_sort_pytorch/utils/__pycache__/\n",
      "  inflating: deep_sort_pytorch/utils/__pycache__/__init__.cpython-310.pyc  \n",
      "  inflating: deep_sort_pytorch/utils/__pycache__/__init__.cpython-37.pyc  \n",
      "  inflating: deep_sort_pytorch/utils/__pycache__/__init__.cpython-38.pyc  \n",
      "  inflating: deep_sort_pytorch/utils/__pycache__/parser.cpython-310.pyc  \n",
      "  inflating: deep_sort_pytorch/utils/__pycache__/parser.cpython-37.pyc  \n",
      "  inflating: deep_sort_pytorch/utils/__pycache__/parser.cpython-38.pyc  \n",
      "  inflating: deep_sort_pytorch/utils/asserts.py  \n",
      "  inflating: deep_sort_pytorch/utils/draw.py  \n",
      "  inflating: deep_sort_pytorch/utils/evaluation.py  \n",
      "  inflating: deep_sort_pytorch/utils/io.py  \n",
      "  inflating: deep_sort_pytorch/utils/json_logger.py  \n",
      "  inflating: deep_sort_pytorch/utils/log.py  \n",
      "  inflating: deep_sort_pytorch/utils/parser.py  \n",
      "  inflating: deep_sort_pytorch/utils/tools.py  \n"
     ]
    }
   ],
   "source": [
    "!unzip 'deep_sort_pytorch.zip'"
   ]
  },
  {
   "cell_type": "code",
   "execution_count": 13,
   "metadata": {
    "execution": {
     "iopub.execute_input": "2025-05-27T16:57:16.904578Z",
     "iopub.status.busy": "2025-05-27T16:57:16.904172Z",
     "iopub.status.idle": "2025-05-27T16:57:16.909583Z",
     "shell.execute_reply": "2025-05-27T16:57:16.908894Z",
     "shell.execute_reply.started": "2025-05-27T16:57:16.904551Z"
    },
    "trusted": true
   },
   "outputs": [
    {
     "name": "stdout",
     "output_type": "stream",
     "text": [
      "/kaggle/working/PFE-Module1/YOLOv8-DeepSORT-Object-Tracking/ultralytics/yolo/v8/detect\n"
     ]
    }
   ],
   "source": [
    "%cd {home2}"
   ]
  },
  {
   "cell_type": "code",
   "execution_count": 14,
   "metadata": {
    "execution": {
     "iopub.execute_input": "2025-05-27T16:57:17.925098Z",
     "iopub.status.busy": "2025-05-27T16:57:17.924569Z",
     "iopub.status.idle": "2025-05-27T16:57:17.929862Z",
     "shell.execute_reply": "2025-05-27T16:57:17.929033Z",
     "shell.execute_reply.started": "2025-05-27T16:57:17.925077Z"
    },
    "trusted": true
   },
   "outputs": [
    {
     "name": "stdout",
     "output_type": "stream",
     "text": [
      "/kaggle/working/PFE-Module1/YOLOv8-DeepSORT-Object-Tracking/ultralytics/yolo/v8/detect/detection-1\n"
     ]
    }
   ],
   "source": [
    "%cd {dataset.location}"
   ]
  },
  {
   "cell_type": "markdown",
   "metadata": {},
   "source": [
    "# Training"
   ]
  },
  {
   "cell_type": "code",
   "execution_count": 15,
   "metadata": {
    "execution": {
     "iopub.execute_input": "2025-05-27T16:57:20.823899Z",
     "iopub.status.busy": "2025-05-27T16:57:20.823313Z",
     "iopub.status.idle": "2025-05-27T16:57:20.830210Z",
     "shell.execute_reply": "2025-05-27T16:57:20.829529Z",
     "shell.execute_reply.started": "2025-05-27T16:57:20.823876Z"
    },
    "trusted": true
   },
   "outputs": [
    {
     "name": "stdout",
     "output_type": "stream",
     "text": [
      "✅ Correction d’indentation et mise à jour de getsize() effectuée.\n"
     ]
    }
   ],
   "source": [
    "file_path = os.path.join(home1,'ultralytics/yolo/utils/plotting.py')\n",
    "\n",
    "with open(file_path, \"r\") as f:\n",
    "    lines = f.readlines()\n",
    "\n",
    "with open(file_path, \"w\") as f:\n",
    "    for i, line in enumerate(lines):\n",
    "        if \"self.font.getsize(\" in line:\n",
    "            indent = line[:len(line) - len(line.lstrip())]  # détecter l'indentation\n",
    "            f.write(f\"{indent}bbox = self.font.getbbox(label)\\n\")\n",
    "            f.write(f\"{indent}w, h = bbox[2] - bbox[0], bbox[3] - bbox[1]  # updated for Pillow>=10.0\\n\")\n",
    "        else:\n",
    "            f.write(line)\n",
    "\n",
    "print(\"✅ Correction d’indentation et mise à jour de getsize() effectuée.\")\n"
   ]
  },
  {
   "cell_type": "code",
   "execution_count": 16,
   "metadata": {
    "execution": {
     "iopub.execute_input": "2025-05-27T16:57:25.381518Z",
     "iopub.status.busy": "2025-05-27T16:57:25.381042Z",
     "iopub.status.idle": "2025-05-27T18:00:45.894797Z",
     "shell.execute_reply": "2025-05-27T18:00:45.894014Z",
     "shell.execute_reply.started": "2025-05-27T16:57:25.381499Z"
    },
    "trusted": true
   },
   "outputs": [
    {
     "name": "stdout",
     "output_type": "stream",
     "text": [
      "/kaggle/working/PFE-Module1/YOLOv8-DeepSORT-Object-Tracking/ultralytics/yolo/v8/detect\n",
      "Downloading https://github.com/ultralytics/assets/releases/download/v0.0.0/yolov8l.pt to yolov8l.pt...\n",
      "100%|██████████████████████████████████████| 83.7M/83.7M [00:01<00:00, 83.0MB/s]\n",
      "\n",
      "\u001b[34m\u001b[1myolo/engine/trainer: \u001b[0mtask=detect, mode=train, model=yolov8l.pt, data=/kaggle/working/PFE-Module1/YOLOv8-DeepSORT-Object-Tracking/ultralytics/yolo/v8/detect/detection-1/data.yaml, epochs=15, patience=50, batch=16, imgsz=640, save=True, cache=False, device=None, workers=8, project=None, name=None, exist_ok=False, pretrained=False, optimizer=SGD, verbose=False, seed=0, deterministic=True, single_cls=False, image_weights=False, rect=False, cos_lr=False, close_mosaic=10, resume=False, overlap_mask=True, mask_ratio=4, dropout=0.0, val=True, save_json=False, save_hybrid=False, conf=None, iou=0.7, max_det=300, half=False, dnn=False, plots=True, source=None, show=False, save_txt=False, save_conf=False, save_crop=False, hide_labels=False, hide_conf=False, vid_stride=1, line_thickness=3, visualize=False, augment=False, agnostic_nms=False, retina_masks=False, format=torchscript, keras=False, optimize=False, int8=False, dynamic=False, simplify=False, opset=17, workspace=4, nms=False, lr0=0.01, lrf=0.01, momentum=0.937, weight_decay=0.0005, warmup_epochs=3.0, warmup_momentum=0.8, warmup_bias_lr=0.1, box=7.5, cls=0.5, dfl=1.5, fl_gamma=0.0, label_smoothing=0.0, nbs=64, hsv_h=0.015, hsv_s=0.7, hsv_v=0.4, degrees=0.0, translate=0.1, scale=0.5, shear=0.0, perspective=0.0, flipud=0.0, fliplr=0.5, mosaic=1.0, mixup=0.0, copy_paste=0.0, hydra={'output_subdir': None, 'run': {'dir': '.'}}, v5loader=False, save_dir=/kaggle/working/PFE-Module1/runs/detect/train\n",
      "Ultralytics YOLOv8.0.3 🚀 Python-3.11.11 torch-2.1.0+cu118 CUDA:0 (Tesla P100-PCIE-16GB, 16269MiB)\n",
      "Downloading https://ultralytics.com/assets/Arial.ttf to /root/.config/Ultralytics/Arial.ttf...\n",
      "100%|████████████████████████████████████████| 755k/755k [00:00<00:00, 46.3MB/s]\n",
      "2025-05-27 16:57:38.993316: E external/local_xla/xla/stream_executor/cuda/cuda_fft.cc:477] Unable to register cuFFT factory: Attempting to register factory for plugin cuFFT when one has already been registered\n",
      "WARNING: All log messages before absl::InitializeLog() is called are written to STDERR\n",
      "E0000 00:00:1748365059.276481     137 cuda_dnn.cc:8310] Unable to register cuDNN factory: Attempting to register factory for plugin cuDNN when one has already been registered\n",
      "E0000 00:00:1748365059.405238     137 cuda_blas.cc:1418] Unable to register cuBLAS factory: Attempting to register factory for plugin cuBLAS when one has already been registered\n",
      "Overriding model.yaml nc=80 with nc=10\n",
      "\n",
      "                   from  n    params  module                                       arguments                     \n",
      "  0                  -1  1      1856  ultralytics.nn.modules.Conv                  [3, 64, 3, 2]                 \n",
      "  1                  -1  1     73984  ultralytics.nn.modules.Conv                  [64, 128, 3, 2]               \n",
      "  2                  -1  3    279808  ultralytics.nn.modules.C2f                   [128, 128, 3, True]           \n",
      "  3                  -1  1    295424  ultralytics.nn.modules.Conv                  [128, 256, 3, 2]              \n",
      "  4                  -1  6   2101248  ultralytics.nn.modules.C2f                   [256, 256, 6, True]           \n",
      "  5                  -1  1   1180672  ultralytics.nn.modules.Conv                  [256, 512, 3, 2]              \n",
      "  6                  -1  6   8396800  ultralytics.nn.modules.C2f                   [512, 512, 6, True]           \n",
      "  7                  -1  1   2360320  ultralytics.nn.modules.Conv                  [512, 512, 3, 2]              \n",
      "  8                  -1  3   4461568  ultralytics.nn.modules.C2f                   [512, 512, 3, True]           \n",
      "  9                  -1  1    656896  ultralytics.nn.modules.SPPF                  [512, 512, 5]                 \n",
      " 10                  -1  1         0  torch.nn.modules.upsampling.Upsample         [None, 2, 'nearest']          \n",
      " 11             [-1, 6]  1         0  ultralytics.nn.modules.Concat                [1]                           \n",
      " 12                  -1  3   4723712  ultralytics.nn.modules.C2f                   [1024, 512, 3]                \n",
      " 13                  -1  1         0  torch.nn.modules.upsampling.Upsample         [None, 2, 'nearest']          \n",
      " 14             [-1, 4]  1         0  ultralytics.nn.modules.Concat                [1]                           \n",
      " 15                  -1  3   1247744  ultralytics.nn.modules.C2f                   [768, 256, 3]                 \n",
      " 16                  -1  1    590336  ultralytics.nn.modules.Conv                  [256, 256, 3, 2]              \n",
      " 17            [-1, 12]  1         0  ultralytics.nn.modules.Concat                [1]                           \n",
      " 18                  -1  3   4592640  ultralytics.nn.modules.C2f                   [768, 512, 3]                 \n",
      " 19                  -1  1   2360320  ultralytics.nn.modules.Conv                  [512, 512, 3, 2]              \n",
      " 20             [-1, 9]  1         0  ultralytics.nn.modules.Concat                [1]                           \n",
      " 21                  -1  3   4723712  ultralytics.nn.modules.C2f                   [1024, 512, 3]                \n",
      " 22        [15, 18, 21]  1   5590510  ultralytics.nn.modules.Detect                [10, [256, 512, 512]]         \n",
      "Model summary: 365 layers, 43637550 parameters, 43637534 gradients, 165.4 GFLOPs\n",
      "\n",
      "Transferred 589/595 items from pretrained weights\n",
      "\u001b[34m\u001b[1moptimizer:\u001b[0m SGD(lr=0.01) with parameter groups 97 weight(decay=0.0), 104 weight(decay=0.0005), 103 bias\n",
      "\u001b[34m\u001b[1mtrain: \u001b[0mScanning /kaggle/working/PFE-Module1/YOLOv8-DeepSORT-Object-Tracking/ultr\u001b[0m\n",
      "Signal received. 15 <frame at 0x79b209406a70, file '/usr/lib/python3.11/multiprocessing/process.py', line 37, code current_process>\n",
      "\u001b[34m\u001b[1mtrain: \u001b[0mNew cache created: /kaggle/working/PFE-Module1/YOLOv8-DeepSORT-Object-Tracking/ultralytics/yolo/v8/detect/detection-1/train/labels.cache\n",
      "/usr/local/lib/python3.11/dist-packages/albumentations/__init__.py:28: UserWarning: A new version of Albumentations is available: '2.0.7' (you have '2.0.5'). Upgrade using: pip install -U albumentations. To disable automatic update checks, set the environment variable NO_ALBUMENTATIONS_UPDATE to 1.\n",
      "  check_for_updates()\n",
      "/kaggle/working/PFE-Module1/YOLOv8-DeepSORT-Object-Tracking/ultralytics/yolo/data/augment.py:551: UserWarning: Argument(s) 'quality_lower' are not valid for transform ImageCompression\n",
      "  A.ImageCompression(quality_lower=75, p=0.0),]  # transforms\n",
      "/usr/local/lib/python3.11/dist-packages/albumentations/core/composition.py:250: UserWarning: Got processor for bboxes, but no transform to process it.\n",
      "  self._set_keys()\n",
      "\u001b[34m\u001b[1malbumentations: \u001b[0mBlur(p=0.01, blur_limit=(3, 7)), MedianBlur(p=0.01, blur_limit=(3, 7)), ToGray(p=0.01, num_output_channels=3, method='weighted_average'), CLAHE(p=0.01, clip_limit=(1.0, 4.0), tile_grid_size=(8, 8))\n",
      "\u001b[34m\u001b[1mval: \u001b[0mScanning /kaggle/working/PFE-Module1/YOLOv8-DeepSORT-Object-Tracking/ultral\u001b[0m\n",
      "\u001b[34m\u001b[1mval: \u001b[0mNew cache created: /kaggle/working/PFE-Module1/YOLOv8-DeepSORT-Object-Tracking/ultralytics/yolo/v8/detect/detection-1/valid/labels.cache\n",
      "Image sizes 640 train, 640 val\n",
      "Using 4 dataloader workers\n",
      "Logging results to \u001b[1m/kaggle/working/PFE-Module1/runs/detect/train\u001b[0m\n",
      "Starting training for 15 epochs...\n",
      "\n",
      "      Epoch    GPU_mem   box_loss   cls_loss   dfl_loss  Instances       Size\n",
      "       1/15      10.5G      2.002      2.073      1.836         41        640: 1\n",
      "                 Class     Images  Instances      Box(P          R      mAP50  m\n",
      "                   all        619       2185      0.739      0.168      0.162     0.0654\n",
      "\n",
      "      Epoch    GPU_mem   box_loss   cls_loss   dfl_loss  Instances       Size\n",
      "       2/15      14.2G      1.857      1.498      1.631         10        640: 1\n",
      "                 Class     Images  Instances      Box(P          R      mAP50  m\n",
      "                   all        619       2185      0.579      0.219      0.164     0.0711\n",
      "\n",
      "      Epoch    GPU_mem   box_loss   cls_loss   dfl_loss  Instances       Size\n",
      "       3/15      14.2G      1.865      1.469      1.601         11        640: 1\n",
      "                 Class     Images  Instances      Box(P          R      mAP50  m\n",
      "                   all        619       2185      0.711      0.194      0.209      0.078\n",
      "\n",
      "      Epoch    GPU_mem   box_loss   cls_loss   dfl_loss  Instances       Size\n",
      "       4/15      14.2G      1.865       1.44      1.618         10        640: 1\n",
      "                 Class     Images  Instances      Box(P          R      mAP50  m\n",
      "                   all        619       2185      0.659      0.183      0.203     0.0898\n",
      "\n",
      "      Epoch    GPU_mem   box_loss   cls_loss   dfl_loss  Instances       Size\n",
      "       5/15      14.2G       1.86      1.398      1.626         16        640: 1\n",
      "                 Class     Images  Instances      Box(P          R      mAP50  m\n",
      "                   all        619       2185      0.466      0.196      0.176     0.0636\n",
      "Closing dataloader mosaic\n",
      "/kaggle/working/PFE-Module1/YOLOv8-DeepSORT-Object-Tracking/ultralytics/yolo/data/augment.py:551: UserWarning: Argument(s) 'quality_lower' are not valid for transform ImageCompression\n",
      "  A.ImageCompression(quality_lower=75, p=0.0),]  # transforms\n",
      "/usr/local/lib/python3.11/dist-packages/albumentations/core/composition.py:250: UserWarning: Got processor for bboxes, but no transform to process it.\n",
      "  self._set_keys()\n",
      "\u001b[34m\u001b[1malbumentations: \u001b[0mBlur(p=0.01, blur_limit=(3, 7)), MedianBlur(p=0.01, blur_limit=(3, 7)), ToGray(p=0.01, num_output_channels=3, method='weighted_average'), CLAHE(p=0.01, clip_limit=(1.0, 4.0), tile_grid_size=(8, 8))\n",
      "\n",
      "      Epoch    GPU_mem   box_loss   cls_loss   dfl_loss  Instances       Size\n",
      "       6/15      14.2G      1.873      1.384      1.705          8        640: 1\n",
      "                 Class     Images  Instances      Box(P          R      mAP50  m\n",
      "                   all        619       2185      0.551      0.197      0.214      0.094\n",
      "\n",
      "      Epoch    GPU_mem   box_loss   cls_loss   dfl_loss  Instances       Size\n",
      "       7/15      14.2G      1.853      1.361      1.696          8        640: 1\n",
      "                 Class     Images  Instances      Box(P          R      mAP50  m\n",
      "                   all        619       2185      0.542      0.236      0.366      0.141\n",
      "\n",
      "      Epoch    GPU_mem   box_loss   cls_loss   dfl_loss  Instances       Size\n",
      "       8/15      14.2G      1.836      1.304      1.676          4        640: 1\n",
      "                 Class     Images  Instances      Box(P          R      mAP50  m\n",
      "                   all        619       2185      0.525      0.347      0.339      0.158\n",
      "\n",
      "      Epoch    GPU_mem   box_loss   cls_loss   dfl_loss  Instances       Size\n",
      "       9/15      14.2G      1.813      1.233      1.666         11        640: 1\n",
      "                 Class     Images  Instances      Box(P          R      mAP50  m\n",
      "                   all        619       2185      0.763      0.289      0.465      0.218\n",
      "\n",
      "      Epoch    GPU_mem   box_loss   cls_loss   dfl_loss  Instances       Size\n",
      "      10/15      14.2G      1.773      1.213      1.637          8        640: 1\n",
      "                 Class     Images  Instances      Box(P          R      mAP50  m\n",
      "                   all        619       2185      0.544      0.532      0.535      0.231\n",
      "\n",
      "      Epoch    GPU_mem   box_loss   cls_loss   dfl_loss  Instances       Size\n",
      "      11/15      14.2G      1.763      1.152      1.653          9        640: 1\n",
      "                 Class     Images  Instances      Box(P          R      mAP50  m\n",
      "                   all        619       2185      0.593      0.398      0.482      0.229\n",
      "\n",
      "      Epoch    GPU_mem   box_loss   cls_loss   dfl_loss  Instances       Size\n",
      "      12/15      14.2G      1.729      1.119      1.631         14        640: 1\n",
      "                 Class     Images  Instances      Box(P          R      mAP50  m\n",
      "                   all        619       2185       0.59      0.366      0.447      0.214\n",
      "\n",
      "      Epoch    GPU_mem   box_loss   cls_loss   dfl_loss  Instances       Size\n",
      "      13/15      14.2G      1.709      1.056      1.619         13        640: 1\n",
      "                 Class     Images  Instances      Box(P          R      mAP50  m\n",
      "                   all        619       2185      0.498       0.57      0.569      0.281\n",
      "\n",
      "      Epoch    GPU_mem   box_loss   cls_loss   dfl_loss  Instances       Size\n",
      "      14/15      14.2G      1.675      1.023      1.593          6        640: 1\n",
      "                 Class     Images  Instances      Box(P          R      mAP50  m\n",
      "                   all        619       2185      0.845      0.484      0.611       0.32\n",
      "\n",
      "      Epoch    GPU_mem   box_loss   cls_loss   dfl_loss  Instances       Size\n",
      "      15/15      14.2G      1.645     0.9747      1.571          6        640: 1\n",
      "                 Class     Images  Instances      Box(P          R      mAP50  m\n",
      "                   all        619       2185      0.672      0.642      0.652      0.363\n",
      "/usr/local/lib/python3.11/dist-packages/matplotlib/colors.py:721: RuntimeWarning: invalid value encountered in less\n",
      "  xa[xa < 0] = -1\n",
      "\n",
      "15 epochs completed in 1.040 hours.\n",
      "Optimizer stripped from /kaggle/working/PFE-Module1/runs/detect/train/weights/last.pt, 87.7MB\n",
      "Optimizer stripped from /kaggle/working/PFE-Module1/runs/detect/train/weights/best.pt, 87.7MB\n",
      "\n",
      "Validating /kaggle/working/PFE-Module1/runs/detect/train/weights/best.pt...\n",
      "Ultralytics YOLOv8.0.3 🚀 Python-3.11.11 torch-2.1.0+cu118 CUDA:0 (Tesla P100-PCIE-16GB, 16269MiB)\n",
      "Fusing layers... \n",
      "Model summary: 268 layers, 43614318 parameters, 0 gradients, 164.9 GFLOPs\n",
      "                 Class     Images  Instances      Box(P          R      mAP50  m\n",
      "                   all        619       2185      0.674      0.643      0.652      0.362\n",
      "                  boat        619          1        0.3          1      0.332      0.265\n",
      "           camping car        619         21      0.747      0.423      0.658      0.312\n",
      "                   car        619       1963      0.855       0.92      0.889      0.389\n",
      "            motorcycle        619         59      0.736      0.756        0.8      0.322\n",
      "                 other        619          4        0.4        0.2      0.176      0.107\n",
      "                pickup        619         67      0.782      0.388      0.633      0.342\n",
      "                 plane        619          1      0.732          1      0.995      0.796\n",
      "               tractor        619          6      0.642      0.667      0.722      0.426\n",
      "                 truck        619         25      0.856      0.474      0.666      0.347\n",
      "                   van        619         38       0.69      0.605       0.65      0.317\n",
      "/usr/local/lib/python3.11/dist-packages/matplotlib/colors.py:721: RuntimeWarning: invalid value encountered in less\n",
      "  xa[xa < 0] = -1\n",
      "Speed: 0.2ms pre-process, 17.4ms inference, 0.0ms loss, 1.8ms post-process per image\n",
      "Saving /kaggle/working/PFE-Module1/runs/detect/train/predictions.json...\n",
      "Results saved to \u001b[1m/kaggle/working/PFE-Module1/runs/detect/train\u001b[0m\n"
     ]
    }
   ],
   "source": [
    "%cd {home2}\n",
    "\n",
    "#!export HYDRA_FULL_ERROR=1 && python train.py model=yolov8l.pt data={dataset.location}/data.yaml epochs=1 imgsz=640\n",
    "!export HYDRA_FULL_ERROR=1 && python train.py model=yolov8l.pt data={dataset.location}/data.yaml epochs=15 imgsz=640"
   ]
  },
  {
   "cell_type": "markdown",
   "metadata": {},
   "source": [
    "# Visualisation"
   ]
  },
  {
   "cell_type": "code",
   "execution_count": null,
   "metadata": {
    "trusted": true
   },
   "outputs": [],
   "source": [
    "home3 = os.path.join(BASE_PATH, 'runs/detect/train')\n",
    "!ls {home3}"
   ]
  },
  {
   "cell_type": "code",
   "execution_count": null,
   "metadata": {
    "trusted": true
   },
   "outputs": [],
   "source": [
    "print(\"results.png\")\n",
    "Image(filename = os.path.join(home3, 'results.png'))"
   ]
  },
  {
   "cell_type": "code",
   "execution_count": null,
   "metadata": {
    "trusted": true
   },
   "outputs": [],
   "source": [
    "%cd {BASE_PATH}"
   ]
  },
  {
   "cell_type": "code",
   "execution_count": null,
   "metadata": {
    "trusted": true
   },
   "outputs": [],
   "source": [
    "!rm -rf runs\n",
    "print(\"ex\")"
   ]
  },
  {
   "cell_type": "markdown",
   "metadata": {},
   "source": [
    "# Save Folders"
   ]
  },
  {
   "cell_type": "code",
   "execution_count": null,
   "metadata": {
    "trusted": true
   },
   "outputs": [],
   "source": [
    "%cd {BASE_PATH}"
   ]
  },
  {
   "cell_type": "code",
   "execution_count": null,
   "metadata": {
    "trusted": true
   },
   "outputs": [],
   "source": [
    "import shutil\n",
    "\n",
    "# Chemin du dossier à compresser\n",
    "folder_path = 'runs'  # Remplace par le nom de ton dossier\n",
    "\n",
    "# Nom du fichier zip de sortie\n",
    "zip_file_name = 'Runs'  # Ne mets pas l'extension .zip ici\n",
    "\n",
    "# Compression du dossier en .zip\n",
    "shutil.make_archive(zip_file_name, 'zip', folder_path)\n",
    "\n",
    "print(f\"Le dossier '{folder_path}' a été compressé en '{zip_file_name}.zip'\")\n"
   ]
  }
 ],
 "metadata": {
  "kaggle": {
   "accelerator": "gpu",
   "dataSources": [],
   "isGpuEnabled": true,
   "isInternetEnabled": true,
   "language": "python",
   "sourceType": "notebook"
  },
  "kernelspec": {
   "display_name": "Python 3",
   "language": "python",
   "name": "python3"
  },
  "language_info": {
   "codemirror_mode": {
    "name": "ipython",
    "version": 3
   },
   "file_extension": ".py",
   "mimetype": "text/x-python",
   "name": "python",
   "nbconvert_exporter": "python",
   "pygments_lexer": "ipython3",
   "version": "3.11.11"
  }
 },
 "nbformat": 4,
 "nbformat_minor": 4
}
